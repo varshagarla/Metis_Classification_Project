{
 "cells": [
  {
   "cell_type": "markdown",
   "id": "9a1c3c14",
   "metadata": {},
   "source": [
    "# Tuning Logistic Regression"
   ]
  },
  {
   "cell_type": "markdown",
   "id": "ee522eb7",
   "metadata": {},
   "source": [
    "## Import libraries"
   ]
  },
  {
   "cell_type": "code",
   "execution_count": 1,
   "id": "4eac2432",
   "metadata": {},
   "outputs": [],
   "source": [
    "# Data and Numbers\n",
    "import pandas as pd\n",
    "import numpy as np\n",
    "import seaborn as sns\n",
    "\n",
    "# Modeling\n",
    "from sklearn.linear_model import LogisticRegression, LogisticRegressionCV\n",
    "from sklearn.model_selection import train_test_split, StratifiedKFold, GridSearchCV\n",
    "from sklearn.model_selection import cross_val_score, KFold, cross_validate, cross_val_predict\n",
    "from sklearn.metrics import precision_score, recall_score,\\\n",
    "precision_recall_curve, f1_score, fbeta_score,\\\n",
    "accuracy_score, confusion_matrix, roc_auc_score, roc_curve, log_loss, make_scorer\n",
    "from sklearn.ensemble import BaggingClassifier, RandomForestClassifier\n",
    "from sklearn.preprocessing import StandardScaler\n",
    "\n",
    "# Saving\n",
    "import joblib\n",
    "import pickle\n",
    "\n",
    "# Plotting\n",
    "import matplotlib.pyplot as plt\n",
    "import seaborn as sns\n",
    "sns.set()\n",
    "from IPython.display import Image\n",
    "from sklearn.tree import export_graphviz\n",
    "%matplotlib inline"
   ]
  },
  {
   "cell_type": "markdown",
   "id": "fa5fd8ad",
   "metadata": {},
   "source": [
    "## Read in cleaned csv"
   ]
  },
  {
   "cell_type": "code",
   "execution_count": 2,
   "id": "28e775e2",
   "metadata": {},
   "outputs": [],
   "source": [
    "df = pd.read_csv('online_shoppers_intention_cleaned.csv')"
   ]
  },
  {
   "cell_type": "code",
   "execution_count": 3,
   "id": "e5eeb58c",
   "metadata": {},
   "outputs": [
    {
     "data": {
      "text/html": [
       "<div>\n",
       "<style scoped>\n",
       "    .dataframe tbody tr th:only-of-type {\n",
       "        vertical-align: middle;\n",
       "    }\n",
       "\n",
       "    .dataframe tbody tr th {\n",
       "        vertical-align: top;\n",
       "    }\n",
       "\n",
       "    .dataframe thead th {\n",
       "        text-align: right;\n",
       "    }\n",
       "</style>\n",
       "<table border=\"1\" class=\"dataframe\">\n",
       "  <thead>\n",
       "    <tr style=\"text-align: right;\">\n",
       "      <th></th>\n",
       "      <th>BounceRates</th>\n",
       "      <th>ExitRates</th>\n",
       "      <th>PageValues</th>\n",
       "      <th>SpecialDay</th>\n",
       "      <th>Weekend</th>\n",
       "      <th>Revenue</th>\n",
       "      <th>Aug</th>\n",
       "      <th>Dec</th>\n",
       "      <th>Feb</th>\n",
       "      <th>Jul</th>\n",
       "      <th>...</th>\n",
       "      <th>Mar</th>\n",
       "      <th>May</th>\n",
       "      <th>Nov</th>\n",
       "      <th>Oct</th>\n",
       "      <th>Sep</th>\n",
       "      <th>New_Visitor</th>\n",
       "      <th>Returning_Visitor</th>\n",
       "      <th>Avg_Administrative</th>\n",
       "      <th>Avg_Informational</th>\n",
       "      <th>Avg_ProductRelated</th>\n",
       "    </tr>\n",
       "  </thead>\n",
       "  <tbody>\n",
       "    <tr>\n",
       "      <th>0</th>\n",
       "      <td>0.20</td>\n",
       "      <td>0.20</td>\n",
       "      <td>0.0</td>\n",
       "      <td>0.0</td>\n",
       "      <td>0</td>\n",
       "      <td>0</td>\n",
       "      <td>0</td>\n",
       "      <td>0</td>\n",
       "      <td>1</td>\n",
       "      <td>0</td>\n",
       "      <td>...</td>\n",
       "      <td>0</td>\n",
       "      <td>0</td>\n",
       "      <td>0</td>\n",
       "      <td>0</td>\n",
       "      <td>0</td>\n",
       "      <td>0</td>\n",
       "      <td>1</td>\n",
       "      <td>0.0</td>\n",
       "      <td>0.0</td>\n",
       "      <td>0.000000</td>\n",
       "    </tr>\n",
       "    <tr>\n",
       "      <th>1</th>\n",
       "      <td>0.00</td>\n",
       "      <td>0.10</td>\n",
       "      <td>0.0</td>\n",
       "      <td>0.0</td>\n",
       "      <td>0</td>\n",
       "      <td>0</td>\n",
       "      <td>0</td>\n",
       "      <td>0</td>\n",
       "      <td>1</td>\n",
       "      <td>0</td>\n",
       "      <td>...</td>\n",
       "      <td>0</td>\n",
       "      <td>0</td>\n",
       "      <td>0</td>\n",
       "      <td>0</td>\n",
       "      <td>0</td>\n",
       "      <td>0</td>\n",
       "      <td>1</td>\n",
       "      <td>0.0</td>\n",
       "      <td>0.0</td>\n",
       "      <td>32.000000</td>\n",
       "    </tr>\n",
       "    <tr>\n",
       "      <th>2</th>\n",
       "      <td>0.20</td>\n",
       "      <td>0.20</td>\n",
       "      <td>0.0</td>\n",
       "      <td>0.0</td>\n",
       "      <td>0</td>\n",
       "      <td>0</td>\n",
       "      <td>0</td>\n",
       "      <td>0</td>\n",
       "      <td>1</td>\n",
       "      <td>0</td>\n",
       "      <td>...</td>\n",
       "      <td>0</td>\n",
       "      <td>0</td>\n",
       "      <td>0</td>\n",
       "      <td>0</td>\n",
       "      <td>0</td>\n",
       "      <td>0</td>\n",
       "      <td>1</td>\n",
       "      <td>0.0</td>\n",
       "      <td>0.0</td>\n",
       "      <td>0.000000</td>\n",
       "    </tr>\n",
       "    <tr>\n",
       "      <th>3</th>\n",
       "      <td>0.05</td>\n",
       "      <td>0.14</td>\n",
       "      <td>0.0</td>\n",
       "      <td>0.0</td>\n",
       "      <td>0</td>\n",
       "      <td>0</td>\n",
       "      <td>0</td>\n",
       "      <td>0</td>\n",
       "      <td>1</td>\n",
       "      <td>0</td>\n",
       "      <td>...</td>\n",
       "      <td>0</td>\n",
       "      <td>0</td>\n",
       "      <td>0</td>\n",
       "      <td>0</td>\n",
       "      <td>0</td>\n",
       "      <td>0</td>\n",
       "      <td>1</td>\n",
       "      <td>0.0</td>\n",
       "      <td>0.0</td>\n",
       "      <td>1.333333</td>\n",
       "    </tr>\n",
       "    <tr>\n",
       "      <th>4</th>\n",
       "      <td>0.02</td>\n",
       "      <td>0.05</td>\n",
       "      <td>0.0</td>\n",
       "      <td>0.0</td>\n",
       "      <td>1</td>\n",
       "      <td>0</td>\n",
       "      <td>0</td>\n",
       "      <td>0</td>\n",
       "      <td>1</td>\n",
       "      <td>0</td>\n",
       "      <td>...</td>\n",
       "      <td>0</td>\n",
       "      <td>0</td>\n",
       "      <td>0</td>\n",
       "      <td>0</td>\n",
       "      <td>0</td>\n",
       "      <td>0</td>\n",
       "      <td>1</td>\n",
       "      <td>0.0</td>\n",
       "      <td>0.0</td>\n",
       "      <td>62.750000</td>\n",
       "    </tr>\n",
       "  </tbody>\n",
       "</table>\n",
       "<p>5 rows × 21 columns</p>\n",
       "</div>"
      ],
      "text/plain": [
       "   BounceRates  ExitRates  PageValues  SpecialDay  Weekend  Revenue  Aug  Dec  \\\n",
       "0         0.20       0.20         0.0         0.0        0        0    0    0   \n",
       "1         0.00       0.10         0.0         0.0        0        0    0    0   \n",
       "2         0.20       0.20         0.0         0.0        0        0    0    0   \n",
       "3         0.05       0.14         0.0         0.0        0        0    0    0   \n",
       "4         0.02       0.05         0.0         0.0        1        0    0    0   \n",
       "\n",
       "   Feb  Jul  ...  Mar  May  Nov  Oct  Sep  New_Visitor  Returning_Visitor  \\\n",
       "0    1    0  ...    0    0    0    0    0            0                  1   \n",
       "1    1    0  ...    0    0    0    0    0            0                  1   \n",
       "2    1    0  ...    0    0    0    0    0            0                  1   \n",
       "3    1    0  ...    0    0    0    0    0            0                  1   \n",
       "4    1    0  ...    0    0    0    0    0            0                  1   \n",
       "\n",
       "   Avg_Administrative  Avg_Informational  Avg_ProductRelated  \n",
       "0                 0.0                0.0            0.000000  \n",
       "1                 0.0                0.0           32.000000  \n",
       "2                 0.0                0.0            0.000000  \n",
       "3                 0.0                0.0            1.333333  \n",
       "4                 0.0                0.0           62.750000  \n",
       "\n",
       "[5 rows x 21 columns]"
      ]
     },
     "execution_count": 3,
     "metadata": {},
     "output_type": "execute_result"
    }
   ],
   "source": [
    "df.head()"
   ]
  },
  {
   "cell_type": "code",
   "execution_count": 4,
   "id": "3900e155",
   "metadata": {},
   "outputs": [
    {
     "data": {
      "text/plain": [
       "Index(['BounceRates', 'ExitRates', 'PageValues', 'SpecialDay', 'Weekend',\n",
       "       'Revenue', 'Aug', 'Dec', 'Feb', 'Jul', 'June', 'Mar', 'May', 'Nov',\n",
       "       'Oct', 'Sep', 'New_Visitor', 'Returning_Visitor', 'Avg_Administrative',\n",
       "       'Avg_Informational', 'Avg_ProductRelated'],\n",
       "      dtype='object')"
      ]
     },
     "execution_count": 4,
     "metadata": {},
     "output_type": "execute_result"
    }
   ],
   "source": [
    "df.columns"
   ]
  },
  {
   "cell_type": "markdown",
   "id": "35bd1d86",
   "metadata": {},
   "source": [
    "## Train/test, split & Standardize the Data"
   ]
  },
  {
   "cell_type": "code",
   "execution_count": 7,
   "id": "5c6eda80",
   "metadata": {},
   "outputs": [],
   "source": [
    "# Let's start with all features in the dataset\n",
    "X = df.drop('Revenue', axis=1)\n",
    "y = df['Revenue'].values"
   ]
  },
  {
   "cell_type": "code",
   "execution_count": 8,
   "id": "4252d298",
   "metadata": {},
   "outputs": [],
   "source": [
    "# Split the data with 80% to train and 20% to test\n",
    "# Stratify to ensure train and test sets have similar proportions of either target class\n",
    "X_train, X_test, y_train, y_test = train_test_split(X,\n",
    "                                                    y,\n",
    "                                                    test_size=0.2,\n",
    "                                                    random_state=42,\n",
    "                                                    stratify=y)"
   ]
  },
  {
   "cell_type": "code",
   "execution_count": 13,
   "id": "9d25eca1",
   "metadata": {},
   "outputs": [],
   "source": [
    "# Standardize the data\n",
    "\n",
    "scaler = StandardScaler()\n",
    "\n",
    "# Fit the scaler using the training data and scale it\n",
    "X_train_scaled = pd.DataFrame(scaler.fit_transform(X_train.values),\n",
    "                              columns=X.columns)\n",
    "\n",
    "# Scale the test data\n",
    "X_test_scaled = pd.DataFrame(scaler.transform(X_test.values),\n",
    "                             columns=X.columns)"
   ]
  },
  {
   "cell_type": "markdown",
   "id": "f6a68679",
   "metadata": {},
   "source": [
    "-----------"
   ]
  },
  {
   "cell_type": "markdown",
   "id": "a9d240fe",
   "metadata": {},
   "source": [
    "## 1. Feature Selection"
   ]
  },
  {
   "cell_type": "markdown",
   "id": "01bd0006",
   "metadata": {},
   "source": [
    "#### Correlations of features to \"Revenue\""
   ]
  },
  {
   "cell_type": "code",
   "execution_count": 9,
   "id": "c172559d",
   "metadata": {},
   "outputs": [
    {
     "data": {
      "text/plain": [
       "<AxesSubplot:>"
      ]
     },
     "execution_count": 9,
     "metadata": {},
     "output_type": "execute_result"
    },
    {
     "data": {
      "image/png": "[encoded data removed]",
      "text/plain": [
       "<Figure size 1080x576 with 1 Axes>"
      ]
     },
     "metadata": {
      "needs_background": "light"
     },
     "output_type": "display_data"
    }
   ],
   "source": [
    "plt.figure(figsize=(15,8))\n",
    "df.corr()['Revenue'].sort_values(ascending = False).plot(kind='bar')"
   ]
  },
  {
   "cell_type": "markdown",
   "id": "12a3530e",
   "metadata": {},
   "source": [
    "#### Feature importance from random forest model trained on all features"
   ]
  },
  {
   "cell_type": "markdown",
   "id": "65df8909",
   "metadata": {},
   "source": [
    "| feature |\timportance |\n",
    "| --- | --- |\n",
    "| PageValues |\t0.586638 |\n",
    "| ExitRates\t|0.094965|\n",
    "|BounceRates\t|0.068109|\n",
    "|\tAvg_ProductRelated\t|0.065634|\n",
    "|\tAvg_Administrative\t|0.061952|\n",
    "|\tAvg_Informational\t|0.032723|\n",
    "|\tNov\t|0.024669|\n",
    "|\tNew_Visitor\t|0.010788|\n",
    "|\tReturning_Visitor|\t0.010628|\n",
    "|\tWeekend\t|0.007321|\n",
    "|May\t|0.006636|\n",
    "|\tMar|\t0.005585|\n",
    "|SpecialDay\t|0.004925|\n",
    "|\tSep\t|0.004549|\n",
    "|\tDec\t|0.004171|\n",
    "|Oct\t|0.003349|\n",
    "|Jul\t|0.003084|\n",
    "|Aug\t|0.002324|\n",
    "|\tJune|\t0.001281|\n",
    "|Feb\t|0.000669|"
   ]
  },
  {
   "cell_type": "markdown",
   "id": "104b80a8",
   "metadata": {},
   "source": [
    "### Experiment with regularization on logreg model with all features to evaluate feature importance and collinearity"
   ]
  },
  {
   "cell_type": "markdown",
   "id": "5587c2b2",
   "metadata": {},
   "source": [
    "Try running a model with high regularization to see which coefficients go to zero"
   ]
  },
  {
   "cell_type": "code",
   "execution_count": 18,
   "id": "90b0fc4a",
   "metadata": {},
   "outputs": [
    {
     "name": "stderr",
     "output_type": "stream",
     "text": [
      "/Users/varshagarla/opt/anaconda3/lib/python3.8/site-packages/sklearn/linear_model/_sag.py:328: ConvergenceWarning: The max_iter was reached which means the coef_ did not converge\n",
      "  warnings.warn(\"The max_iter was reached which means \"\n"
     ]
    },
    {
     "data": {
      "text/plain": [
       "LogisticRegression(C=0.1, l1_ratio=0.95, penalty='elasticnet', solver='saga')"
      ]
     },
     "execution_count": 18,
     "metadata": {},
     "output_type": "execute_result"
    }
   ],
   "source": [
    "# Instantiate model with low C (high regularization)\n",
    "logreg = LogisticRegression(solver='saga',\n",
    "                            C=0.1,\n",
    "                            penalty='elasticnet',\n",
    "                            l1_ratio=0.95)\n",
    "\n",
    "# Fit model to the standardized training data\n",
    "logreg.fit(X_train_scaled, y_train)"
   ]
  },
  {
   "cell_type": "code",
   "execution_count": 19,
   "id": "72a613f8",
   "metadata": {},
   "outputs": [
    {
     "data": {
      "text/html": [
       "<div>\n",
       "<style scoped>\n",
       "    .dataframe tbody tr th:only-of-type {\n",
       "        vertical-align: middle;\n",
       "    }\n",
       "\n",
       "    .dataframe tbody tr th {\n",
       "        vertical-align: top;\n",
       "    }\n",
       "\n",
       "    .dataframe thead th {\n",
       "        text-align: right;\n",
       "    }\n",
       "</style>\n",
       "<table border=\"1\" class=\"dataframe\">\n",
       "  <thead>\n",
       "    <tr style=\"text-align: right;\">\n",
       "      <th></th>\n",
       "      <th>Feature</th>\n",
       "      <th>Coefficient</th>\n",
       "    </tr>\n",
       "  </thead>\n",
       "  <tbody>\n",
       "    <tr>\n",
       "      <th>0</th>\n",
       "      <td>PageValues</td>\n",
       "      <td>1.500817</td>\n",
       "    </tr>\n",
       "    <tr>\n",
       "      <th>1</th>\n",
       "      <td>Nov</td>\n",
       "      <td>0.323218</td>\n",
       "    </tr>\n",
       "    <tr>\n",
       "      <th>2</th>\n",
       "      <td>Avg_Informational</td>\n",
       "      <td>0.055876</td>\n",
       "    </tr>\n",
       "    <tr>\n",
       "      <th>3</th>\n",
       "      <td>Sep</td>\n",
       "      <td>0.052957</td>\n",
       "    </tr>\n",
       "    <tr>\n",
       "      <th>4</th>\n",
       "      <td>Aug</td>\n",
       "      <td>0.045934</td>\n",
       "    </tr>\n",
       "    <tr>\n",
       "      <th>5</th>\n",
       "      <td>Weekend</td>\n",
       "      <td>0.042939</td>\n",
       "    </tr>\n",
       "    <tr>\n",
       "      <th>6</th>\n",
       "      <td>Avg_Administrative</td>\n",
       "      <td>0.040311</td>\n",
       "    </tr>\n",
       "    <tr>\n",
       "      <th>7</th>\n",
       "      <td>Oct</td>\n",
       "      <td>0.039984</td>\n",
       "    </tr>\n",
       "    <tr>\n",
       "      <th>8</th>\n",
       "      <td>Avg_ProductRelated</td>\n",
       "      <td>0.036796</td>\n",
       "    </tr>\n",
       "    <tr>\n",
       "      <th>9</th>\n",
       "      <td>New_Visitor</td>\n",
       "      <td>0.036698</td>\n",
       "    </tr>\n",
       "    <tr>\n",
       "      <th>10</th>\n",
       "      <td>Jul</td>\n",
       "      <td>0.023892</td>\n",
       "    </tr>\n",
       "    <tr>\n",
       "      <th>11</th>\n",
       "      <td>June</td>\n",
       "      <td>0.000000</td>\n",
       "    </tr>\n",
       "    <tr>\n",
       "      <th>12</th>\n",
       "      <td>Returning_Visitor</td>\n",
       "      <td>0.000000</td>\n",
       "    </tr>\n",
       "    <tr>\n",
       "      <th>13</th>\n",
       "      <td>BounceRates</td>\n",
       "      <td>-0.010482</td>\n",
       "    </tr>\n",
       "    <tr>\n",
       "      <th>14</th>\n",
       "      <td>SpecialDay</td>\n",
       "      <td>-0.037048</td>\n",
       "    </tr>\n",
       "    <tr>\n",
       "      <th>15</th>\n",
       "      <td>Dec</td>\n",
       "      <td>-0.084644</td>\n",
       "    </tr>\n",
       "    <tr>\n",
       "      <th>16</th>\n",
       "      <td>Mar</td>\n",
       "      <td>-0.107363</td>\n",
       "    </tr>\n",
       "    <tr>\n",
       "      <th>17</th>\n",
       "      <td>May</td>\n",
       "      <td>-0.139493</td>\n",
       "    </tr>\n",
       "    <tr>\n",
       "      <th>18</th>\n",
       "      <td>Feb</td>\n",
       "      <td>-0.159643</td>\n",
       "    </tr>\n",
       "    <tr>\n",
       "      <th>19</th>\n",
       "      <td>ExitRates</td>\n",
       "      <td>-0.979200</td>\n",
       "    </tr>\n",
       "  </tbody>\n",
       "</table>\n",
       "</div>"
      ],
      "text/plain": [
       "               Feature  Coefficient\n",
       "0           PageValues     1.500817\n",
       "1                  Nov     0.323218\n",
       "2    Avg_Informational     0.055876\n",
       "3                  Sep     0.052957\n",
       "4                  Aug     0.045934\n",
       "5              Weekend     0.042939\n",
       "6   Avg_Administrative     0.040311\n",
       "7                  Oct     0.039984\n",
       "8   Avg_ProductRelated     0.036796\n",
       "9          New_Visitor     0.036698\n",
       "10                 Jul     0.023892\n",
       "11                June     0.000000\n",
       "12   Returning_Visitor     0.000000\n",
       "13         BounceRates    -0.010482\n",
       "14          SpecialDay    -0.037048\n",
       "15                 Dec    -0.084644\n",
       "16                 Mar    -0.107363\n",
       "17                 May    -0.139493\n",
       "18                 Feb    -0.159643\n",
       "19           ExitRates    -0.979200"
      ]
     },
     "execution_count": 19,
     "metadata": {},
     "output_type": "execute_result"
    }
   ],
   "source": [
    "# Look at coefficients\n",
    "logreg_coefs = pd.DataFrame(sorted(list(zip(X.columns, logreg.coef_[0])),\n",
    "                                   key=(lambda x: x[1]),\n",
    "                                   reverse=True),\n",
    "                            columns=['Feature', 'Coefficient'])\n",
    "logreg_coefs"
   ]
  },
  {
   "cell_type": "markdown",
   "id": "c2a67d37",
   "metadata": {},
   "source": [
    "We can see that coefficients for June and Returning_Visitor went to 0 so we will not use those features moving forward."
   ]
  },
  {
   "cell_type": "markdown",
   "id": "58e5aa90",
   "metadata": {},
   "source": [
    "### Initial Logreg model on all features except for June and Returning_Visitor"
   ]
  },
  {
   "cell_type": "code",
   "execution_count": 20,
   "id": "f8a01c59",
   "metadata": {},
   "outputs": [],
   "source": [
    "# New feature dataframe without June and Returning Visitor\n",
    "X = df.drop(['June', 'Returning_Visitor', 'Revenue'], axis=1)\n",
    "\n",
    "# Split the data with 80% to train and 20% to test\n",
    "# Stratify to ensure train and test sets have similar proportions of either target class\n",
    "X_train, X_test, y_train, y_test = train_test_split(X,\n",
    "                                                    y,\n",
    "                                                    test_size=0.2,\n",
    "                                                    random_state=42,\n",
    "                                                    stratify=y)\n",
    "\n",
    "# Standardize the data\n",
    "scaler = StandardScaler()\n",
    "\n",
    "# Fit the scaler using the training data and scale it\n",
    "X_train_scaled = pd.DataFrame(scaler.fit_transform(X_train.values),\n",
    "                              columns=X.columns)\n",
    "\n",
    "# Scale the test data\n",
    "X_test_scaled = pd.DataFrame(scaler.transform(X_test.values),\n",
    "                             columns=X.columns)"
   ]
  },
  {
   "cell_type": "code",
   "execution_count": 21,
   "id": "8abff8cd",
   "metadata": {},
   "outputs": [
    {
     "data": {
      "text/plain": [
       "LogisticRegression(solver='liblinear')"
      ]
     },
     "execution_count": 21,
     "metadata": {},
     "output_type": "execute_result"
    }
   ],
   "source": [
    "# Instantiate model\n",
    "logreg = LogisticRegression(solver='liblinear')\n",
    "\n",
    "# Fit model to the training data\n",
    "logreg.fit(X_train_scaled, y_train)"
   ]
  },
  {
   "cell_type": "code",
   "execution_count": 22,
   "id": "e8ba00d9",
   "metadata": {},
   "outputs": [
    {
     "name": "stdout",
     "output_type": "stream",
     "text": [
      "Metric: fit_time\n",
      "Scores: [0.04890609 0.0362761  0.02547097 0.02734399 0.02618814]\n",
      "Average score: 0.03283705711364746\n",
      " \n",
      "Metric: score_time\n",
      "Scores: [0.00981593 0.00449395 0.00376606 0.004426   0.00379014]\n",
      "Average score: 0.005258417129516602\n",
      " \n",
      "Metric: test_LogLoss\n",
      "Scores: [4.00882503 3.65870788 3.93879609 4.30642705 3.85322657]\n",
      "Average score: 3.9531965230545594\n",
      " \n",
      "Metric: test_ROC AUC\n",
      "Scores: [0.67817353 0.70158332 0.66463714 0.66740966 0.69292043]\n",
      "Average score: 0.6809448161266276\n",
      " \n"
     ]
    }
   ],
   "source": [
    "# Score Model\n",
    "scoring = {'LogLoss' : make_scorer(log_loss),\n",
    "          'ROC AUC' : make_scorer(roc_auc_score)}\n",
    "\n",
    "results = cross_validate(logreg, X_train_scaled, y_train, cv=5, scoring=scoring)\n",
    "\n",
    "for metric_name in results.keys():\n",
    "    average_score = np.average(results[metric_name])\n",
    "    print(\"Metric:\", metric_name)\n",
    "    print(\"Scores:\", results[metric_name])\n",
    "    print(\"Average score:\", average_score)\n",
    "    print(\" \")"
   ]
  },
  {
   "cell_type": "markdown",
   "id": "850848ae",
   "metadata": {},
   "source": [
    "### Now let's try to reduce features even more. Use subset considering random forest feature importance and feature correlations to \"Revenue\""
   ]
  },
  {
   "cell_type": "markdown",
   "id": "c5987a07",
   "metadata": {},
   "source": [
    "**Subset 1:**\n",
    "\n",
    "Let's pick and try: PageValues, ExitRates, Avg_ProductRelated, Avg_Informational, Avg_Administrative, Nov, New_Visitor, Weekend, May, Mar, SpecialDay"
   ]
  },
  {
   "cell_type": "code",
   "execution_count": 23,
   "id": "f6efdf12",
   "metadata": {},
   "outputs": [],
   "source": [
    "X1 = df[['PageValues', 'ExitRates', 'Avg_ProductRelated', 'Avg_Informational', 'Avg_Administrative', 'Nov', 'New_Visitor', 'Weekend', 'May', 'Mar', 'SpecialDay']]\n",
    "\n",
    "# Split the data with 80% to train and 20% to test\n",
    "# Stratify to ensure train and test sets have similar proportions of either target class\n",
    "X1_train, X1_test, y_train, y_test = train_test_split(X1,\n",
    "                                                    y,\n",
    "                                                    test_size=0.2,\n",
    "                                                    random_state=42,\n",
    "                                                    stratify=y)\n",
    "\n",
    "# Standardize the data\n",
    "scaler = StandardScaler()\n",
    "\n",
    "# Fit the scaler using the training data and scale it\n",
    "X1_train_scaled = pd.DataFrame(scaler.fit_transform(X1_train.values),\n",
    "                              columns=X1.columns)\n",
    "\n",
    "# Scale the test data\n",
    "X1_test_scaled = pd.DataFrame(scaler.transform(X1_test.values),\n",
    "                             columns=X1.columns)"
   ]
  },
  {
   "cell_type": "code",
   "execution_count": 24,
   "id": "4720c010",
   "metadata": {},
   "outputs": [
    {
     "data": {
      "text/plain": [
       "LogisticRegression(solver='liblinear')"
      ]
     },
     "execution_count": 24,
     "metadata": {},
     "output_type": "execute_result"
    }
   ],
   "source": [
    "# Instantiate model\n",
    "logreg = LogisticRegression(solver='liblinear')\n",
    "\n",
    "# Fit model to the training data\n",
    "logreg.fit(X1_train_scaled, y_train)"
   ]
  },
  {
   "cell_type": "code",
   "execution_count": 25,
   "id": "c8156848",
   "metadata": {},
   "outputs": [
    {
     "name": "stdout",
     "output_type": "stream",
     "text": [
      "Metric: fit_time\n",
      "Scores: [0.02502608 0.02420688 0.0213089  0.01469898 0.01624703]\n",
      "Average score: 0.02029757499694824\n",
      " \n",
      "Metric: score_time\n",
      "Scores: [0.00653505 0.00675416 0.00387001 0.00404406 0.00384617]\n",
      "Average score: 0.005009889602661133\n",
      " \n",
      "Metric: test_LogLoss\n",
      "Scores: [4.02633074 3.65870869 3.88627935 4.30642624 3.74813699]\n",
      "Average score: 3.9251764015004453\n",
      " \n",
      "Metric: test_ROC AUC\n",
      "Scores: [0.67653418 0.70426249 0.67089476 0.66474156 0.69605948]\n",
      "Average score: 0.6824984943718286\n",
      " \n"
     ]
    }
   ],
   "source": [
    "# Score Model\n",
    "scoring = {'LogLoss' : make_scorer(log_loss),\n",
    "          'ROC AUC' : make_scorer(roc_auc_score)}\n",
    "\n",
    "results = cross_validate(logreg, X1_train_scaled, y_train, cv=5, scoring=scoring)\n",
    "\n",
    "for metric_name in results.keys():\n",
    "    average_score = np.average(results[metric_name])\n",
    "    print(\"Metric:\", metric_name)\n",
    "    print(\"Scores:\", results[metric_name])\n",
    "    print(\"Average score:\", average_score)\n",
    "    print(\" \")"
   ]
  },
  {
   "cell_type": "markdown",
   "id": "c4386bde",
   "metadata": {},
   "source": [
    "The CV LogLoss improved and the ROC AUC improved marginally."
   ]
  },
  {
   "cell_type": "markdown",
   "id": "dcf2bdb2",
   "metadata": {},
   "source": [
    "--------------------------"
   ]
  },
  {
   "cell_type": "markdown",
   "id": "30fef4bf",
   "metadata": {},
   "source": [
    "## 2. Handle Class Imbalance"
   ]
  },
  {
   "cell_type": "code",
   "execution_count": 26,
   "id": "09ed38eb",
   "metadata": {},
   "outputs": [
    {
     "data": {
      "text/plain": [
       "0    0.845255\n",
       "1    0.154745\n",
       "Name: Revenue, dtype: float64"
      ]
     },
     "execution_count": 26,
     "metadata": {},
     "output_type": "execute_result"
    }
   ],
   "source": [
    "# Inspect target distribution\n",
    "df['Revenue'].value_counts(normalize=True)"
   ]
  },
  {
   "cell_type": "markdown",
   "id": "32b41277",
   "metadata": {},
   "source": [
    "### Try different class weights"
   ]
  },
  {
   "cell_type": "markdown",
   "id": "0efe76a4",
   "metadata": {},
   "source": [
    "#### a. Balanced"
   ]
  },
  {
   "cell_type": "code",
   "execution_count": 27,
   "id": "1f97b197",
   "metadata": {},
   "outputs": [
    {
     "name": "stdout",
     "output_type": "stream",
     "text": [
      "Metric: fit_time\n",
      "Scores: [0.02620625 0.02593708 0.01793504 0.01620007 0.01583791]\n",
      "Average score: 0.020423269271850585\n",
      " \n",
      "Metric: score_time\n",
      "Scores: [0.00456285 0.00717187 0.00395918 0.00405717 0.00368214]\n",
      "Average score: 0.0046866416931152345\n",
      " \n",
      "Metric: test_LogLoss\n",
      "Scores: [4.65659445 5.28682492 5.12926822 5.23429765 5.51719152]\n",
      "Average score: 5.164835349899091\n",
      " \n",
      "Metric: test_ROC AUC\n",
      "Scores: [0.80907831 0.83177655 0.82911605 0.80359418 0.79702715]\n",
      "Average score: 0.814118448717981\n",
      " \n"
     ]
    }
   ],
   "source": [
    "# Instantiate\n",
    "logreg = LogisticRegression(class_weight='balanced', solver='liblinear')\n",
    "\n",
    "# Fit\n",
    "logreg.fit(X1_train_scaled, y_train)\n",
    "\n",
    "# Score\n",
    "scoring = {'LogLoss' : make_scorer(log_loss),\n",
    "          'ROC AUC' : make_scorer(roc_auc_score)}\n",
    "\n",
    "results = cross_validate(logreg, X1_train_scaled, y_train, cv=5, scoring=scoring)\n",
    "\n",
    "for metric_name in results.keys():\n",
    "    average_score = np.average(results[metric_name])\n",
    "    print(\"Metric:\", metric_name)\n",
    "    print(\"Scores:\", results[metric_name])\n",
    "    print(\"Average score:\", average_score)\n",
    "    print(\" \")"
   ]
  },
  {
   "cell_type": "markdown",
   "id": "7d998507",
   "metadata": {},
   "source": [
    "ROC AUC is better by a lot, but LogLoss is worse."
   ]
  },
  {
   "cell_type": "markdown",
   "id": "c1cbb722",
   "metadata": {},
   "source": [
    "#### b. Try Positive Class Weights from 1 to 9"
   ]
  },
  {
   "cell_type": "code",
   "execution_count": 30,
   "id": "03eec429",
   "metadata": {},
   "outputs": [
    {
     "name": "stdout",
     "output_type": "stream",
     "text": [
      "Positive class weight: 1\n",
      "Metric: fit_time\n",
      "Scores: [0.02705312 0.01777315 0.01655293 0.01429892 0.01605225]\n",
      "Average score: 0.018346071243286133\n",
      " \n",
      "Metric: score_time\n",
      "Scores: [0.00499368 0.0036509  0.0038259  0.00371909 0.00363684]\n",
      "Average score: 0.0039652824401855465\n",
      " \n",
      "Metric: test_LogLoss\n",
      "Scores: [4.02633074 3.65870869 3.88627935 4.30642624 3.74813699]\n",
      "Average score: 3.9251764015004453\n",
      " \n",
      "Metric: test_ROC AUC\n",
      "Scores: [0.67653418 0.70426249 0.67089476 0.66474156 0.69605948]\n",
      "Average score: 0.6824984943718286\n",
      " \n",
      " \n",
      "Positive class weight: 2\n",
      "Metric: fit_time\n",
      "Scores: [0.01543188 0.01601911 0.01404285 0.01610899 0.01430726]\n",
      "Average score: 0.015182018280029297\n",
      " \n",
      "Metric: score_time\n",
      "Scores: [0.00369    0.00370002 0.00393796 0.00381207 0.00400186]\n",
      "Average score: 0.0038283824920654296\n",
      " \n",
      "Metric: test_LogLoss\n",
      "Scores: [3.74624862 3.34361433 3.4661519  4.11387877 3.57300241]\n",
      "Average score: 3.648579207003344\n",
      " \n",
      "Metric: test_ROC AUC\n",
      "Scores: [0.73357412 0.76190195 0.74238904 0.7334092  0.74995624]\n",
      "Average score: 0.744246111303051\n",
      " \n",
      " \n",
      "Positive class weight: 3\n",
      "Metric: fit_time\n",
      "Scores: [0.01603317 0.01589394 0.01557803 0.01887298 0.01950908]\n",
      "Average score: 0.017177438735961913\n",
      " \n",
      "Metric: score_time\n",
      "Scores: [0.00375009 0.00413704 0.00358987 0.00694394 0.00422692]\n",
      "Average score: 0.004529571533203125\n",
      " \n",
      "Metric: test_LogLoss\n",
      "Scores: [3.58870488 3.37863832 3.44865835 4.07887666 3.85324927]\n",
      "Average score: 3.6696254969658915\n",
      " \n",
      "Metric: test_ROC AUC\n",
      "Scores: [0.77378032 0.80015037 0.78421591 0.76736025 0.76792707]\n",
      "Average score: 0.7786867842478531\n",
      " \n",
      " \n",
      "Positive class weight: 4\n",
      "Metric: fit_time\n",
      "Scores: [0.01617074 0.01549602 0.01403189 0.01493812 0.01530695]\n",
      "Average score: 0.01518874168395996\n",
      " \n",
      "Metric: score_time\n",
      "Scores: [0.00366998 0.00371289 0.00378799 0.00362706 0.00378799]\n",
      "Average score: 0.003717184066772461\n",
      " \n",
      "Metric: test_LogLoss\n",
      "Scores: [3.78127707 3.76378108 3.67624886 4.23643783 4.32616071]\n",
      "Average score: 3.956781108377286\n",
      " \n",
      "Metric: test_ROC AUC\n",
      "Scores: [0.78655797 0.82034733 0.81648779 0.7846715  0.78125916]\n",
      "Average score: 0.7978647487770483\n",
      " \n",
      " \n",
      "Positive class weight: 5\n",
      "Metric: fit_time\n",
      "Scores: [0.01580691 0.01641607 0.01510978 0.02368593 0.016994  ]\n",
      "Average score: 0.0176025390625\n",
      " \n",
      "Metric: score_time\n",
      "Scores: [0.00391817 0.00377798 0.00544715 0.00367832 0.00406289]\n",
      "Average score: 0.004176902770996094\n",
      " \n",
      "Metric: test_LogLoss\n",
      "Scores: [4.30646879 4.76163847 4.74412789 4.98920912 5.1318567 ]\n",
      "Average score: 4.7866601930140975\n",
      " \n",
      "Metric: test_ROC AUC\n",
      "Scores: [0.80435684 0.83139226 0.8169566  0.79845501 0.78755298]\n",
      "Average score: 0.8077427400750885\n",
      " \n",
      " \n",
      "Positive class weight: 6\n",
      "Metric: fit_time\n",
      "Scores: [0.01771402 0.01625609 0.02115321 0.01779699 0.01697373]\n",
      "Average score: 0.017978811264038087\n",
      " \n",
      "Metric: score_time\n",
      "Scores: [0.00466895 0.00476694 0.0043571  0.00506115 0.00436616]\n",
      "Average score: 0.004644060134887695\n",
      " \n",
      "Metric: test_LogLoss\n",
      "Scores: [5.16427397 5.70697344 5.77699752 5.77699184 5.9900993 ]\n",
      "Average score: 5.6830672141629055\n",
      " \n",
      "Metric: test_ROC AUC\n",
      "Scores: [0.80708319 0.82994064 0.82740201 0.80897056 0.7983046 ]\n",
      "Average score: 0.8143401993168589\n",
      " \n",
      " \n",
      "Positive class weight: 7\n",
      "Metric: fit_time\n",
      "Scores: [0.0212369  0.02043009 0.02491593 0.02031207 0.01612973]\n",
      "Average score: 0.020604944229125975\n",
      " \n",
      "Metric: score_time\n",
      "Scores: [0.00363326 0.00533199 0.00494313 0.00434017 0.00359797]\n",
      "Average score: 0.004369306564331055\n",
      " \n",
      "Metric: test_LogLoss\n",
      "Scores: [5.67195715 6.4072211  6.38971701 6.56477213 6.81330704]\n",
      "Average score: 6.36939488582083\n",
      " \n",
      "Metric: test_ROC AUC\n",
      "Scores: [0.81714432 0.82732732 0.834325   0.81148182 0.79358325]\n",
      "Average score: 0.8167723413338187\n",
      " \n",
      " \n",
      "Positive class weight: 8\n",
      "Metric: fit_time\n",
      "Scores: [0.01609993 0.01525807 0.01533484 0.02406406 0.01932216]\n",
      "Average score: 0.01801581382751465\n",
      " \n",
      "Metric: score_time\n",
      "Scores: [0.00363708 0.00377512 0.00402999 0.00364709 0.00374603]\n",
      "Average score: 0.003767061233520508\n",
      " \n",
      "Metric: test_LogLoss\n",
      "Scores: [6.02208321 6.86238186 6.87989082 7.08995859 7.37379225]\n",
      "Average score: 6.8456213434451865\n",
      " \n",
      "Metric: test_ROC AUC\n",
      "Scores: [0.82320537 0.82489189 0.83396922 0.81182195 0.80139743]\n",
      "Average score: 0.8190571705467476\n",
      " \n",
      " \n",
      "Positive class weight: 9\n",
      "Metric: fit_time\n",
      "Scores: [0.017138   0.01577806 0.02236891 0.02180123 0.01730394]\n",
      "Average score: 0.01887803077697754\n",
      " \n",
      "Metric: score_time\n",
      "Scores: [0.00362802 0.00598884 0.0036819  0.00441194 0.00389814]\n",
      "Average score: 0.004321765899658203\n",
      " \n",
      "Metric: test_LogLoss\n",
      "Scores: [6.47724639 7.40507281 7.5276189  7.70267403 7.88172922]\n",
      "Average score: 7.398868270327505\n",
      " \n",
      "Metric: test_ROC AUC\n",
      "Scores: [0.82880745 0.81961808 0.82823643 0.80532619 0.79939619]\n",
      "Average score: 0.8162768650259504\n",
      " \n",
      " \n"
     ]
    }
   ],
   "source": [
    "for i in range(1,10):\n",
    "    # Instantiate\n",
    "    logreg = LogisticRegression(class_weight={1 : i, 0 : 1}, solver='liblinear')\n",
    "    \n",
    "    # Fit\n",
    "    logreg.fit(X1_train_scaled, y_train)\n",
    "\n",
    "    # Score\n",
    "    scoring = {'LogLoss' : make_scorer(log_loss),\n",
    "          'ROC AUC' : make_scorer(roc_auc_score)}\n",
    "    results = cross_validate(logreg, X1_train_scaled, y_train, cv=5, scoring=scoring)\n",
    "    \n",
    "    print(\"Positive class weight:\", i)\n",
    "    for metric_name in results.keys():\n",
    "        average_score = np.average(results[metric_name])\n",
    "        print(\"Metric:\", metric_name)\n",
    "        print(\"Scores:\", results[metric_name])\n",
    "        print(\"Average score:\", average_score)\n",
    "        print(\" \")\n",
    "    print(\" \")"
   ]
  },
  {
   "cell_type": "markdown",
   "id": "7cf8a410",
   "metadata": {},
   "source": [
    "As the positive class weight goes up, the ROC AUC keeps getting better until positive class weight 8. However, the logloss gets worse. We want to balance these 2 metrics. A higher AUC ROC means the order of the predictions is becoming more correct. However, as LogLoss gets worse, that means there are more confident false predictions."
   ]
  },
  {
   "cell_type": "markdown",
   "id": "f2078fd7",
   "metadata": {},
   "source": [
    "- The positive class weight with the best LogLoss, 3.648, is weight 2.\n",
    "- The positive weight class with the best ROC AUC, 0.819, is weight 8. (However, the LogLoss for this weight is way too high, 6.845).\n",
    "\n",
    "**Scores to beat**\n",
    "\n",
    "As a reference:\n",
    "- the balanced weights gave LogLoss 5.165 and ROC AUC 0.814.\n",
    "- the prior model with class imbalance and the selected features gave **LogLoss 3.925 and ROC AUC 0.682.**\n",
    "\n"
   ]
  },
  {
   "cell_type": "markdown",
   "id": "8775afa2",
   "metadata": {},
   "source": [
    "Let's rule out balanced weights since the LogLoss is worse than with class imbalance."
   ]
  },
  {
   "cell_type": "markdown",
   "id": "476fa0ab",
   "metadata": {},
   "source": [
    "**Now considering the positive weight class options**\n",
    "\n",
    "A positive class weight of 5 or above is probably too extreme anyway.\n",
    "\n",
    "Of weights 1-4,\n",
    "\n",
    "Weight 3 is the best option. **It decreases LogLoss to 3.670 and increases ROC AUC to 0.779.**"
   ]
  },
  {
   "cell_type": "markdown",
   "id": "c96ba757",
   "metadata": {},
   "source": [
    "_________________________________________"
   ]
  },
  {
   "cell_type": "markdown",
   "id": "1a910c7f",
   "metadata": {},
   "source": [
    "#### WINNER! Choose Pos:Neg Class Weights 3:1"
   ]
  },
  {
   "cell_type": "markdown",
   "id": "e1bf7239",
   "metadata": {},
   "source": [
    "--------------------------------------------"
   ]
  },
  {
   "cell_type": "markdown",
   "id": "53f06de6",
   "metadata": {},
   "source": [
    "### 3. Tune hyperparameters using GridSearchCV: Penalty and Regularization (C)"
   ]
  },
  {
   "cell_type": "code",
   "execution_count": 35,
   "id": "c0544bfc",
   "metadata": {},
   "outputs": [],
   "source": [
    "# Instantiate model with best class weights\n",
    "logreg = LogisticRegression(class_weight={1 : 3, 0 : 1}, solver='liblinear')"
   ]
  },
  {
   "cell_type": "code",
   "execution_count": 36,
   "id": "4c115e69",
   "metadata": {},
   "outputs": [],
   "source": [
    "# Try different values of C (regularization), and different penalties (l1 lasso l2 ridge)\n",
    "C_param_range = [0.001, 0.01, 0.1, 1, 10, 100, 1000]\n",
    "\n",
    "param_grid={\"C\": C_param_range, \"penalty\":[\"l1\",\"l2\"]}\n",
    "\n",
    "# set metric to be optimized\n",
    "roc_auc = make_scorer(roc_auc_score)"
   ]
  },
  {
   "cell_type": "code",
   "execution_count": 37,
   "id": "6e7cb79f",
   "metadata": {},
   "outputs": [
    {
     "data": {
      "text/plain": [
       "GridSearchCV(cv=10,\n",
       "             estimator=LogisticRegression(class_weight={0: 1, 1: 3},\n",
       "                                          solver='liblinear'),\n",
       "             param_grid={'C': [0.001, 0.01, 0.1, 1, 10, 100, 1000],\n",
       "                         'penalty': ['l1', 'l2']},\n",
       "             scoring=make_scorer(roc_auc_score))"
      ]
     },
     "execution_count": 37,
     "metadata": {},
     "output_type": "execute_result"
    }
   ],
   "source": [
    "# instantiate and fit the grid on training data with selected features\n",
    "grid = GridSearchCV(logreg, param_grid, cv=10, scoring=roc_auc)\n",
    "grid.fit(X1_train_scaled, y_train)"
   ]
  },
  {
   "cell_type": "code",
   "execution_count": 38,
   "id": "acd85182",
   "metadata": {},
   "outputs": [
    {
     "data": {
      "text/html": [
       "<div>\n",
       "<style scoped>\n",
       "    .dataframe tbody tr th:only-of-type {\n",
       "        vertical-align: middle;\n",
       "    }\n",
       "\n",
       "    .dataframe tbody tr th {\n",
       "        vertical-align: top;\n",
       "    }\n",
       "\n",
       "    .dataframe thead th {\n",
       "        text-align: right;\n",
       "    }\n",
       "</style>\n",
       "<table border=\"1\" class=\"dataframe\">\n",
       "  <thead>\n",
       "    <tr style=\"text-align: right;\">\n",
       "      <th></th>\n",
       "      <th>mean_fit_time</th>\n",
       "      <th>std_fit_time</th>\n",
       "      <th>mean_score_time</th>\n",
       "      <th>std_score_time</th>\n",
       "      <th>param_C</th>\n",
       "      <th>param_penalty</th>\n",
       "      <th>params</th>\n",
       "      <th>split0_test_score</th>\n",
       "      <th>split1_test_score</th>\n",
       "      <th>split2_test_score</th>\n",
       "      <th>split3_test_score</th>\n",
       "      <th>split4_test_score</th>\n",
       "      <th>split5_test_score</th>\n",
       "      <th>split6_test_score</th>\n",
       "      <th>split7_test_score</th>\n",
       "      <th>split8_test_score</th>\n",
       "      <th>split9_test_score</th>\n",
       "      <th>mean_test_score</th>\n",
       "      <th>std_test_score</th>\n",
       "      <th>rank_test_score</th>\n",
       "    </tr>\n",
       "  </thead>\n",
       "  <tbody>\n",
       "    <tr>\n",
       "      <th>0</th>\n",
       "      <td>0.019876</td>\n",
       "      <td>0.008602</td>\n",
       "      <td>0.012438</td>\n",
       "      <td>0.014907</td>\n",
       "      <td>0.001</td>\n",
       "      <td>l1</td>\n",
       "      <td>{'C': 0.001, 'penalty': 'l1'}</td>\n",
       "      <td>0.737786</td>\n",
       "      <td>0.754126</td>\n",
       "      <td>0.760932</td>\n",
       "      <td>0.766928</td>\n",
       "      <td>0.759821</td>\n",
       "      <td>0.749953</td>\n",
       "      <td>0.728110</td>\n",
       "      <td>0.752027</td>\n",
       "      <td>0.747232</td>\n",
       "      <td>0.749633</td>\n",
       "      <td>0.750655</td>\n",
       "      <td>0.010750</td>\n",
       "      <td>14</td>\n",
       "    </tr>\n",
       "    <tr>\n",
       "      <th>1</th>\n",
       "      <td>0.023949</td>\n",
       "      <td>0.006795</td>\n",
       "      <td>0.006367</td>\n",
       "      <td>0.003874</td>\n",
       "      <td>0.001</td>\n",
       "      <td>l2</td>\n",
       "      <td>{'C': 0.001, 'penalty': 'l2'}</td>\n",
       "      <td>0.751129</td>\n",
       "      <td>0.746332</td>\n",
       "      <td>0.773076</td>\n",
       "      <td>0.788604</td>\n",
       "      <td>0.788227</td>\n",
       "      <td>0.761004</td>\n",
       "      <td>0.752027</td>\n",
       "      <td>0.731675</td>\n",
       "      <td>0.759971</td>\n",
       "      <td>0.750500</td>\n",
       "      <td>0.760255</td>\n",
       "      <td>0.017343</td>\n",
       "      <td>13</td>\n",
       "    </tr>\n",
       "    <tr>\n",
       "      <th>2</th>\n",
       "      <td>0.020183</td>\n",
       "      <td>0.002389</td>\n",
       "      <td>0.004076</td>\n",
       "      <td>0.000623</td>\n",
       "      <td>0.01</td>\n",
       "      <td>l1</td>\n",
       "      <td>{'C': 0.01, 'penalty': 'l1'}</td>\n",
       "      <td>0.766869</td>\n",
       "      <td>0.764800</td>\n",
       "      <td>0.783479</td>\n",
       "      <td>0.804345</td>\n",
       "      <td>0.804383</td>\n",
       "      <td>0.761604</td>\n",
       "      <td>0.754118</td>\n",
       "      <td>0.757991</td>\n",
       "      <td>0.775110</td>\n",
       "      <td>0.754635</td>\n",
       "      <td>0.772733</td>\n",
       "      <td>0.017985</td>\n",
       "      <td>11</td>\n",
       "    </tr>\n",
       "    <tr>\n",
       "      <th>3</th>\n",
       "      <td>0.028453</td>\n",
       "      <td>0.017042</td>\n",
       "      <td>0.004555</td>\n",
       "      <td>0.000820</td>\n",
       "      <td>0.01</td>\n",
       "      <td>l2</td>\n",
       "      <td>{'C': 0.01, 'penalty': 'l2'}</td>\n",
       "      <td>0.763601</td>\n",
       "      <td>0.755266</td>\n",
       "      <td>0.788216</td>\n",
       "      <td>0.800477</td>\n",
       "      <td>0.797804</td>\n",
       "      <td>0.758007</td>\n",
       "      <td>0.750828</td>\n",
       "      <td>0.753502</td>\n",
       "      <td>0.773043</td>\n",
       "      <td>0.749900</td>\n",
       "      <td>0.769064</td>\n",
       "      <td>0.018654</td>\n",
       "      <td>12</td>\n",
       "    </tr>\n",
       "    <tr>\n",
       "      <th>4</th>\n",
       "      <td>0.028308</td>\n",
       "      <td>0.004746</td>\n",
       "      <td>0.005665</td>\n",
       "      <td>0.002881</td>\n",
       "      <td>0.1</td>\n",
       "      <td>l1</td>\n",
       "      <td>{'C': 0.1, 'penalty': 'l1'}</td>\n",
       "      <td>0.773405</td>\n",
       "      <td>0.767739</td>\n",
       "      <td>0.796222</td>\n",
       "      <td>0.805814</td>\n",
       "      <td>0.801985</td>\n",
       "      <td>0.758007</td>\n",
       "      <td>0.752919</td>\n",
       "      <td>0.767260</td>\n",
       "      <td>0.777778</td>\n",
       "      <td>0.754035</td>\n",
       "      <td>0.775516</td>\n",
       "      <td>0.018612</td>\n",
       "      <td>10</td>\n",
       "    </tr>\n",
       "  </tbody>\n",
       "</table>\n",
       "</div>"
      ],
      "text/plain": [
       "   mean_fit_time  std_fit_time  mean_score_time  std_score_time param_C  \\\n",
       "0       0.019876      0.008602         0.012438        0.014907   0.001   \n",
       "1       0.023949      0.006795         0.006367        0.003874   0.001   \n",
       "2       0.020183      0.002389         0.004076        0.000623    0.01   \n",
       "3       0.028453      0.017042         0.004555        0.000820    0.01   \n",
       "4       0.028308      0.004746         0.005665        0.002881     0.1   \n",
       "\n",
       "  param_penalty                         params  split0_test_score  \\\n",
       "0            l1  {'C': 0.001, 'penalty': 'l1'}           0.737786   \n",
       "1            l2  {'C': 0.001, 'penalty': 'l2'}           0.751129   \n",
       "2            l1   {'C': 0.01, 'penalty': 'l1'}           0.766869   \n",
       "3            l2   {'C': 0.01, 'penalty': 'l2'}           0.763601   \n",
       "4            l1    {'C': 0.1, 'penalty': 'l1'}           0.773405   \n",
       "\n",
       "   split1_test_score  split2_test_score  split3_test_score  split4_test_score  \\\n",
       "0           0.754126           0.760932           0.766928           0.759821   \n",
       "1           0.746332           0.773076           0.788604           0.788227   \n",
       "2           0.764800           0.783479           0.804345           0.804383   \n",
       "3           0.755266           0.788216           0.800477           0.797804   \n",
       "4           0.767739           0.796222           0.805814           0.801985   \n",
       "\n",
       "   split5_test_score  split6_test_score  split7_test_score  split8_test_score  \\\n",
       "0           0.749953           0.728110           0.752027           0.747232   \n",
       "1           0.761004           0.752027           0.731675           0.759971   \n",
       "2           0.761604           0.754118           0.757991           0.775110   \n",
       "3           0.758007           0.750828           0.753502           0.773043   \n",
       "4           0.758007           0.752919           0.767260           0.777778   \n",
       "\n",
       "   split9_test_score  mean_test_score  std_test_score  rank_test_score  \n",
       "0           0.749633         0.750655        0.010750               14  \n",
       "1           0.750500         0.760255        0.017343               13  \n",
       "2           0.754635         0.772733        0.017985               11  \n",
       "3           0.749900         0.769064        0.018654               12  \n",
       "4           0.754035         0.775516        0.018612               10  "
      ]
     },
     "execution_count": 38,
     "metadata": {},
     "output_type": "execute_result"
    }
   ],
   "source": [
    "df_cv = pd.DataFrame(grid.cv_results_)\n",
    "df_cv.head()"
   ]
  },
  {
   "cell_type": "code",
   "execution_count": 39,
   "id": "7caa695a",
   "metadata": {},
   "outputs": [
    {
     "name": "stdout",
     "output_type": "stream",
     "text": [
      "Best params:  {'C': 10, 'penalty': 'l1'}\n",
      "Best estimator:  LogisticRegression(C=10, class_weight={0: 1, 1: 3}, penalty='l1',\n",
      "                   solver='liblinear')\n",
      "Best score:  0.7768568420678885\n"
     ]
    }
   ],
   "source": [
    "# examine the best model/hyperparameters\n",
    "print(\"Best params: \", grid.best_params_)\n",
    "print(\"Best estimator: \", grid.best_estimator_)\n",
    "print(\"Best score: \", grid.best_score_)"
   ]
  },
  {
   "cell_type": "markdown",
   "id": "828be728",
   "metadata": {},
   "source": [
    "#### Fit and score new logistic regression model with the best hyperparameters"
   ]
  },
  {
   "cell_type": "code",
   "execution_count": 40,
   "id": "b212c69e",
   "metadata": {},
   "outputs": [
    {
     "name": "stdout",
     "output_type": "stream",
     "text": [
      "Metric: fit_time\n",
      "Scores: [0.03630686 0.03629684 0.019238   0.01939487 0.02371621]\n",
      "Average score: 0.026990556716918947\n",
      " \n",
      "Metric: score_time\n",
      "Scores: [0.02039599 0.01586819 0.00900388 0.01216412 0.00889492]\n",
      "Average score: 0.013265419006347656\n",
      " \n",
      "Metric: test_LogLoss\n",
      "Scores: [3.58870488 3.37863832 3.44865835 4.07887666 3.85324927]\n",
      "Average score: 3.6696254969658915\n",
      " \n",
      "Metric: test_ROC AUC\n",
      "Scores: [0.77378032 0.80015037 0.78421591 0.76736025 0.76792707]\n",
      "Average score: 0.7786867842478531\n",
      " \n"
     ]
    }
   ],
   "source": [
    "# Instantiate Model\n",
    "logreg = LogisticRegression(C=10,\n",
    "                            class_weight={0: 1, 1: 3},\n",
    "                            penalty='l1',\n",
    "                            solver='liblinear')\n",
    "\n",
    "# Fit Model\n",
    "logreg.fit(X1_train_scaled, y_train)\n",
    "\n",
    "# Score Model\n",
    "scoring = {'LogLoss' : make_scorer(log_loss),\n",
    "          'ROC AUC' : make_scorer(roc_auc_score)}\n",
    "\n",
    "results = cross_validate(logreg, X1_train_scaled, y_train, cv=5, scoring=scoring)\n",
    "\n",
    "for metric_name in results.keys():\n",
    "    average_score = np.average(results[metric_name])\n",
    "    print(\"Metric:\", metric_name)\n",
    "    print(\"Scores:\", results[metric_name])\n",
    "    print(\"Average score:\", average_score)\n",
    "    print(\" \")"
   ]
  },
  {
   "cell_type": "markdown",
   "id": "5351c417",
   "metadata": {},
   "source": [
    "**Comparing to previous best-performing model**\n",
    "\n",
    "Now let's compare LogLoss and ROC AUC scores to the model we had prior to tuning hyperparameters (a.k.a. model after selecting best feature subset and class weights)"
   ]
  },
  {
   "cell_type": "markdown",
   "id": "d206b478",
   "metadata": {},
   "source": [
    "For reference, here were the scores to the previous best-performing model that we're looking to beat:\n",
    "\n",
    "Positive class weight: 3\n",
    " \n",
    "Metric: test_LogLoss\n",
    "- Scores: [3.58870488 3.37863832 3.44865835 4.07887666 3.85324927]\n",
    "- Average score: 3.6696254969658915\n",
    " \n",
    "Metric: test_ROC AUC\n",
    "- Scores: [0.77378032 0.80015037 0.78421591 0.76736025 0.76792707]\n",
    "- Average score: 0.7786867842478531"
   ]
  },
  {
   "cell_type": "markdown",
   "id": "1cd6135e",
   "metadata": {},
   "source": [
    "As we can see, the scores did not change at all after tuning the regularization C parameter and the penalty parameter. After all, logistic regression is already optimized for logloss."
   ]
  },
  {
   "cell_type": "markdown",
   "id": "a98ea206",
   "metadata": {},
   "source": [
    "------------------"
   ]
  },
  {
   "cell_type": "markdown",
   "id": "a798da36",
   "metadata": {},
   "source": [
    "### 4. Look at feature importance for any coefs close to 0"
   ]
  },
  {
   "cell_type": "code",
   "execution_count": 43,
   "id": "effab861",
   "metadata": {},
   "outputs": [],
   "source": [
    "logreg_coefs = pd.DataFrame(sorted(list(zip(X1.columns,\n",
    "                                              logreg.coef_[0])),\n",
    "                                     key=(lambda x: x[1]),\n",
    "                                     reverse=True),\n",
    "                              columns=['Feature', 'Coefficient'])"
   ]
  },
  {
   "cell_type": "code",
   "execution_count": 44,
   "id": "a141d10d",
   "metadata": {},
   "outputs": [
    {
     "data": {
      "text/html": [
       "<div>\n",
       "<style scoped>\n",
       "    .dataframe tbody tr th:only-of-type {\n",
       "        vertical-align: middle;\n",
       "    }\n",
       "\n",
       "    .dataframe tbody tr th {\n",
       "        vertical-align: top;\n",
       "    }\n",
       "\n",
       "    .dataframe thead th {\n",
       "        text-align: right;\n",
       "    }\n",
       "</style>\n",
       "<table border=\"1\" class=\"dataframe\">\n",
       "  <thead>\n",
       "    <tr style=\"text-align: right;\">\n",
       "      <th></th>\n",
       "      <th>Feature</th>\n",
       "      <th>Coefficient</th>\n",
       "    </tr>\n",
       "  </thead>\n",
       "  <tbody>\n",
       "    <tr>\n",
       "      <th>0</th>\n",
       "      <td>PageValues</td>\n",
       "      <td>2.000522</td>\n",
       "    </tr>\n",
       "    <tr>\n",
       "      <th>1</th>\n",
       "      <td>Nov</td>\n",
       "      <td>0.346616</td>\n",
       "    </tr>\n",
       "    <tr>\n",
       "      <th>2</th>\n",
       "      <td>Avg_Informational</td>\n",
       "      <td>0.080833</td>\n",
       "    </tr>\n",
       "    <tr>\n",
       "      <th>3</th>\n",
       "      <td>Avg_Administrative</td>\n",
       "      <td>0.062946</td>\n",
       "    </tr>\n",
       "    <tr>\n",
       "      <th>4</th>\n",
       "      <td>Weekend</td>\n",
       "      <td>0.050037</td>\n",
       "    </tr>\n",
       "    <tr>\n",
       "      <th>5</th>\n",
       "      <td>Avg_ProductRelated</td>\n",
       "      <td>0.020976</td>\n",
       "    </tr>\n",
       "    <tr>\n",
       "      <th>6</th>\n",
       "      <td>New_Visitor</td>\n",
       "      <td>0.019583</td>\n",
       "    </tr>\n",
       "    <tr>\n",
       "      <th>7</th>\n",
       "      <td>SpecialDay</td>\n",
       "      <td>-0.065482</td>\n",
       "    </tr>\n",
       "    <tr>\n",
       "      <th>8</th>\n",
       "      <td>Mar</td>\n",
       "      <td>-0.173121</td>\n",
       "    </tr>\n",
       "    <tr>\n",
       "      <th>9</th>\n",
       "      <td>May</td>\n",
       "      <td>-0.245609</td>\n",
       "    </tr>\n",
       "    <tr>\n",
       "      <th>10</th>\n",
       "      <td>ExitRates</td>\n",
       "      <td>-0.971830</td>\n",
       "    </tr>\n",
       "  </tbody>\n",
       "</table>\n",
       "</div>"
      ],
      "text/plain": [
       "               Feature  Coefficient\n",
       "0           PageValues     2.000522\n",
       "1                  Nov     0.346616\n",
       "2    Avg_Informational     0.080833\n",
       "3   Avg_Administrative     0.062946\n",
       "4              Weekend     0.050037\n",
       "5   Avg_ProductRelated     0.020976\n",
       "6          New_Visitor     0.019583\n",
       "7           SpecialDay    -0.065482\n",
       "8                  Mar    -0.173121\n",
       "9                  May    -0.245609\n",
       "10           ExitRates    -0.971830"
      ]
     },
     "execution_count": 44,
     "metadata": {},
     "output_type": "execute_result"
    }
   ],
   "source": [
    "logreg_coefs"
   ]
  },
  {
   "cell_type": "markdown",
   "id": "1f34015c",
   "metadata": {},
   "source": [
    "None of the features have a really low importance close to 0 relative to the others. Let's keep them all."
   ]
  },
  {
   "cell_type": "markdown",
   "id": "3bb7ebe9",
   "metadata": {},
   "source": [
    "-----------"
   ]
  },
  {
   "cell_type": "markdown",
   "id": "b0dadb6d",
   "metadata": {},
   "source": [
    "### 5. Score final model on test data"
   ]
  },
  {
   "cell_type": "code",
   "execution_count": 47,
   "id": "f1510b61",
   "metadata": {},
   "outputs": [
    {
     "data": {
      "text/plain": [
       "LogisticRegression(C=10, class_weight={0: 1, 1: 3}, penalty='l1',\n",
       "                   solver='liblinear')"
      ]
     },
     "execution_count": 47,
     "metadata": {},
     "output_type": "execute_result"
    }
   ],
   "source": [
    "# Instantiate Model\n",
    "final_logreg = LogisticRegression(C=10,\n",
    "                            class_weight={0: 1, 1: 3},\n",
    "                            penalty='l1',\n",
    "                            solver='liblinear')\n",
    "\n",
    "# Fit Model\n",
    "final_logreg.fit(X1_train_scaled, y_train)"
   ]
  },
  {
   "cell_type": "code",
   "execution_count": 49,
   "id": "c8c0a1cf",
   "metadata": {},
   "outputs": [
    {
     "data": {
      "text/plain": [
       "0.8646267749294048"
      ]
     },
     "execution_count": 49,
     "metadata": {},
     "output_type": "execute_result"
    }
   ],
   "source": [
    "# Calculate area under the curve (AUC) for ROC and LogLoss on test data\n",
    "roc_auc_test = roc_auc_score(y_test,\n",
    "                           final_logreg.predict_proba(X1_test)[:, 1])\n",
    "\n",
    "roc_auc_test"
   ]
  },
  {
   "cell_type": "code",
   "execution_count": 51,
   "id": "16aaeaa2",
   "metadata": {},
   "outputs": [],
   "source": [
    "log_loss_test = log_loss(y_test,\n",
    "                           final_logreg.predict_proba(X1_test)[:, 1])"
   ]
  },
  {
   "cell_type": "code",
   "execution_count": 52,
   "id": "1b141d63",
   "metadata": {},
   "outputs": [
    {
     "data": {
      "text/plain": [
       "3.8956815386948835"
      ]
     },
     "execution_count": 52,
     "metadata": {},
     "output_type": "execute_result"
    }
   ],
   "source": [
    "log_loss_test"
   ]
  },
  {
   "cell_type": "markdown",
   "id": "3da60c21",
   "metadata": {},
   "source": [
    "#### Look at distribution of predicted probabilities"
   ]
  },
  {
   "cell_type": "code",
   "execution_count": 53,
   "id": "de9fc71f",
   "metadata": {},
   "outputs": [
    {
     "data": {
      "text/plain": [
       "(array([234., 321., 245., 180., 144., 121., 102.,  99., 132., 888.]),\n",
       " array([0.15102201, 0.23591981, 0.32081761, 0.4057154 , 0.4906132 ,\n",
       "        0.575511  , 0.6604088 , 0.7453066 , 0.8302044 , 0.9151022 ,\n",
       "        1.        ]),\n",
       " <BarContainer object of 10 artists>)"
      ]
     },
     "execution_count": 53,
     "metadata": {},
     "output_type": "execute_result"
    },
    {
     "data": {
      "image/png": "[encoded data removed]",
      "text/plain": [
       "<Figure size 432x288 with 1 Axes>"
      ]
     },
     "metadata": {
      "needs_background": "light"
     },
     "output_type": "display_data"
    }
   ],
   "source": [
    "plt.hist(final_logreg.predict_proba(X1_test)[:, 1])"
   ]
  },
  {
   "cell_type": "code",
   "execution_count": 54,
   "id": "1450ead0",
   "metadata": {},
   "outputs": [
    {
     "data": {
      "text/plain": [
       "(array([118., 116., 173., 148., 138., 107., 100.,  80.,  71.,  73.,  66.,\n",
       "         55.,  55.,  47.,  50.,  49.,  53.,  79.,  67., 821.]),\n",
       " array([0.15102201, 0.19347091, 0.23591981, 0.27836871, 0.32081761,\n",
       "        0.36326651, 0.4057154 , 0.4481643 , 0.4906132 , 0.5330621 ,\n",
       "        0.575511  , 0.6179599 , 0.6604088 , 0.7028577 , 0.7453066 ,\n",
       "        0.7877555 , 0.8302044 , 0.8726533 , 0.9151022 , 0.9575511 ,\n",
       "        1.        ]),\n",
       " <BarContainer object of 20 artists>)"
      ]
     },
     "execution_count": 54,
     "metadata": {},
     "output_type": "execute_result"
    },
    {
     "data": {
      "image/png": "[encoded data removed]",
      "text/plain": [
       "<Figure size 432x288 with 1 Axes>"
      ]
     },
     "metadata": {
      "needs_background": "light"
     },
     "output_type": "display_data"
    }
   ],
   "source": [
    "# Now plot with more bins\n",
    "plt.hist(final_logreg.predict_proba(X1_test)[:, 1], bins=20)"
   ]
  },
  {
   "cell_type": "code",
   "execution_count": 55,
   "id": "177d03f6",
   "metadata": {},
   "outputs": [
    {
     "data": {
      "text/plain": [
       "(2466, 11)"
      ]
     },
     "execution_count": 55,
     "metadata": {},
     "output_type": "execute_result"
    }
   ],
   "source": [
    "X1_test.shape"
   ]
  },
  {
   "cell_type": "markdown",
   "id": "67c5fe09",
   "metadata": {},
   "source": [
    "Looks like of the 2466 observations in the test set, 800 were assigned a very high probability of being the positive class."
   ]
  },
  {
   "cell_type": "code",
   "execution_count": 56,
   "id": "f8e3e9e3",
   "metadata": {},
   "outputs": [
    {
     "data": {
      "text/plain": [
       "0.32441200324412"
      ]
     },
     "execution_count": 56,
     "metadata": {},
     "output_type": "execute_result"
    }
   ],
   "source": [
    "800/2466"
   ]
  },
  {
   "cell_type": "markdown",
   "id": "c48271b3",
   "metadata": {},
   "source": [
    "In the entire data set, ~15% of samples are in the positive class"
   ]
  },
  {
   "cell_type": "code",
   "execution_count": 58,
   "id": "e017cfa6",
   "metadata": {},
   "outputs": [
    {
     "data": {
      "text/plain": [
       "array([0, 0, 1, ..., 0, 0, 0])"
      ]
     },
     "execution_count": 58,
     "metadata": {},
     "output_type": "execute_result"
    }
   ],
   "source": [
    "y_test"
   ]
  },
  {
   "cell_type": "code",
   "execution_count": 60,
   "id": "9d8a7a3e",
   "metadata": {},
   "outputs": [
    {
     "data": {
      "text/plain": [
       "0.1549067315490673"
      ]
     },
     "execution_count": 60,
     "metadata": {},
     "output_type": "execute_result"
    }
   ],
   "source": [
    "sum(y_test) / len(y_test)"
   ]
  },
  {
   "cell_type": "markdown",
   "id": "0e8f4a55",
   "metadata": {},
   "source": [
    "In the test set as well, ~15% of observations were in the positive class."
   ]
  },
  {
   "cell_type": "markdown",
   "id": "6d4b7f96",
   "metadata": {},
   "source": [
    "This means that the model is incorrectly predicting an extra 15% of observations to be in the positive class."
   ]
  },
  {
   "cell_type": "markdown",
   "id": "d6c7d698",
   "metadata": {},
   "source": [
    "----------------------"
   ]
  },
  {
   "cell_type": "markdown",
   "id": "ab47a551",
   "metadata": {},
   "source": [
    "### 6. Look at coefficients from final model"
   ]
  },
  {
   "cell_type": "code",
   "execution_count": 62,
   "id": "a59b3d78",
   "metadata": {},
   "outputs": [],
   "source": [
    "final_logreg_coefs = pd.DataFrame(sorted(list(zip(X1.columns,\n",
    "                                              final_logreg.coef_[0])),\n",
    "                                     key=(lambda x: x[1]),\n",
    "                                     reverse=True),\n",
    "                              columns=['Feature', 'Coefficient'])"
   ]
  },
  {
   "cell_type": "code",
   "execution_count": 63,
   "id": "b7303b62",
   "metadata": {},
   "outputs": [
    {
     "data": {
      "text/html": [
       "<div>\n",
       "<style scoped>\n",
       "    .dataframe tbody tr th:only-of-type {\n",
       "        vertical-align: middle;\n",
       "    }\n",
       "\n",
       "    .dataframe tbody tr th {\n",
       "        vertical-align: top;\n",
       "    }\n",
       "\n",
       "    .dataframe thead th {\n",
       "        text-align: right;\n",
       "    }\n",
       "</style>\n",
       "<table border=\"1\" class=\"dataframe\">\n",
       "  <thead>\n",
       "    <tr style=\"text-align: right;\">\n",
       "      <th></th>\n",
       "      <th>Feature</th>\n",
       "      <th>Coefficient</th>\n",
       "    </tr>\n",
       "  </thead>\n",
       "  <tbody>\n",
       "    <tr>\n",
       "      <th>0</th>\n",
       "      <td>PageValues</td>\n",
       "      <td>2.000529</td>\n",
       "    </tr>\n",
       "    <tr>\n",
       "      <th>1</th>\n",
       "      <td>Nov</td>\n",
       "      <td>0.346612</td>\n",
       "    </tr>\n",
       "    <tr>\n",
       "      <th>2</th>\n",
       "      <td>Avg_Informational</td>\n",
       "      <td>0.080831</td>\n",
       "    </tr>\n",
       "    <tr>\n",
       "      <th>3</th>\n",
       "      <td>Avg_Administrative</td>\n",
       "      <td>0.062948</td>\n",
       "    </tr>\n",
       "    <tr>\n",
       "      <th>4</th>\n",
       "      <td>Weekend</td>\n",
       "      <td>0.050036</td>\n",
       "    </tr>\n",
       "    <tr>\n",
       "      <th>5</th>\n",
       "      <td>Avg_ProductRelated</td>\n",
       "      <td>0.020977</td>\n",
       "    </tr>\n",
       "    <tr>\n",
       "      <th>6</th>\n",
       "      <td>New_Visitor</td>\n",
       "      <td>0.019586</td>\n",
       "    </tr>\n",
       "    <tr>\n",
       "      <th>7</th>\n",
       "      <td>SpecialDay</td>\n",
       "      <td>-0.065482</td>\n",
       "    </tr>\n",
       "    <tr>\n",
       "      <th>8</th>\n",
       "      <td>Mar</td>\n",
       "      <td>-0.173122</td>\n",
       "    </tr>\n",
       "    <tr>\n",
       "      <th>9</th>\n",
       "      <td>May</td>\n",
       "      <td>-0.245604</td>\n",
       "    </tr>\n",
       "    <tr>\n",
       "      <th>10</th>\n",
       "      <td>ExitRates</td>\n",
       "      <td>-0.971833</td>\n",
       "    </tr>\n",
       "  </tbody>\n",
       "</table>\n",
       "</div>"
      ],
      "text/plain": [
       "               Feature  Coefficient\n",
       "0           PageValues     2.000529\n",
       "1                  Nov     0.346612\n",
       "2    Avg_Informational     0.080831\n",
       "3   Avg_Administrative     0.062948\n",
       "4              Weekend     0.050036\n",
       "5   Avg_ProductRelated     0.020977\n",
       "6          New_Visitor     0.019586\n",
       "7           SpecialDay    -0.065482\n",
       "8                  Mar    -0.173122\n",
       "9                  May    -0.245604\n",
       "10           ExitRates    -0.971833"
      ]
     },
     "execution_count": 63,
     "metadata": {},
     "output_type": "execute_result"
    }
   ],
   "source": [
    "final_logreg_coefs"
   ]
  },
  {
   "cell_type": "code",
   "execution_count": 64,
   "id": "f1147c9b",
   "metadata": {},
   "outputs": [
    {
     "data": {
      "image/png": "[encoded data removed]",
      "text/plain": [
       "<Figure size 432x288 with 1 Axes>"
      ]
     },
     "metadata": {
      "needs_background": "light"
     },
     "output_type": "display_data"
    }
   ],
   "source": [
    "# Plot coefficients\n",
    "plt.barh(final_logreg_coefs['Feature'], width=final_logreg_coefs['Coefficient'])\n",
    "plt.grid(b=False)\n",
    "sns.despine()"
   ]
  },
  {
   "cell_type": "markdown",
   "id": "afbef9a6",
   "metadata": {},
   "source": [
    "#### Interpret coefficients in terms of odds"
   ]
  },
  {
   "cell_type": "code",
   "execution_count": null,
   "id": "3899f791",
   "metadata": {},
   "outputs": [],
   "source": []
  },
  {
   "cell_type": "markdown",
   "id": "c9caf399",
   "metadata": {},
   "source": [
    "##### convert intercept log-odds to probability\n",
    "logodds = final_logreg_coefs.intercept_\n",
    "\n",
    "odds = np.exp(logodds)\n",
    "\n",
    "prob = odds / (1 + odds)\n",
    "\n",
    "prob[0]"
   ]
  },
  {
   "cell_type": "code",
   "execution_count": 66,
   "id": "4dbae4af",
   "metadata": {},
   "outputs": [],
   "source": [
    "final_logreg_coefs['Odds'] = np.exp(final_logreg_coefs.Coefficient)"
   ]
  },
  {
   "cell_type": "code",
   "execution_count": 67,
   "id": "9c00227f",
   "metadata": {},
   "outputs": [
    {
     "data": {
      "text/html": [
       "<div>\n",
       "<style scoped>\n",
       "    .dataframe tbody tr th:only-of-type {\n",
       "        vertical-align: middle;\n",
       "    }\n",
       "\n",
       "    .dataframe tbody tr th {\n",
       "        vertical-align: top;\n",
       "    }\n",
       "\n",
       "    .dataframe thead th {\n",
       "        text-align: right;\n",
       "    }\n",
       "</style>\n",
       "<table border=\"1\" class=\"dataframe\">\n",
       "  <thead>\n",
       "    <tr style=\"text-align: right;\">\n",
       "      <th></th>\n",
       "      <th>Feature</th>\n",
       "      <th>Coefficient</th>\n",
       "      <th>Odds</th>\n",
       "    </tr>\n",
       "  </thead>\n",
       "  <tbody>\n",
       "    <tr>\n",
       "      <th>0</th>\n",
       "      <td>PageValues</td>\n",
       "      <td>2.000529</td>\n",
       "      <td>7.392967</td>\n",
       "    </tr>\n",
       "    <tr>\n",
       "      <th>1</th>\n",
       "      <td>Nov</td>\n",
       "      <td>0.346612</td>\n",
       "      <td>1.414267</td>\n",
       "    </tr>\n",
       "    <tr>\n",
       "      <th>2</th>\n",
       "      <td>Avg_Informational</td>\n",
       "      <td>0.080831</td>\n",
       "      <td>1.084188</td>\n",
       "    </tr>\n",
       "    <tr>\n",
       "      <th>3</th>\n",
       "      <td>Avg_Administrative</td>\n",
       "      <td>0.062948</td>\n",
       "      <td>1.064971</td>\n",
       "    </tr>\n",
       "    <tr>\n",
       "      <th>4</th>\n",
       "      <td>Weekend</td>\n",
       "      <td>0.050036</td>\n",
       "      <td>1.051309</td>\n",
       "    </tr>\n",
       "    <tr>\n",
       "      <th>5</th>\n",
       "      <td>Avg_ProductRelated</td>\n",
       "      <td>0.020977</td>\n",
       "      <td>1.021199</td>\n",
       "    </tr>\n",
       "    <tr>\n",
       "      <th>6</th>\n",
       "      <td>New_Visitor</td>\n",
       "      <td>0.019586</td>\n",
       "      <td>1.019779</td>\n",
       "    </tr>\n",
       "    <tr>\n",
       "      <th>7</th>\n",
       "      <td>SpecialDay</td>\n",
       "      <td>-0.065482</td>\n",
       "      <td>0.936616</td>\n",
       "    </tr>\n",
       "    <tr>\n",
       "      <th>8</th>\n",
       "      <td>Mar</td>\n",
       "      <td>-0.173122</td>\n",
       "      <td>0.841035</td>\n",
       "    </tr>\n",
       "    <tr>\n",
       "      <th>9</th>\n",
       "      <td>May</td>\n",
       "      <td>-0.245604</td>\n",
       "      <td>0.782232</td>\n",
       "    </tr>\n",
       "    <tr>\n",
       "      <th>10</th>\n",
       "      <td>ExitRates</td>\n",
       "      <td>-0.971833</td>\n",
       "      <td>0.378389</td>\n",
       "    </tr>\n",
       "  </tbody>\n",
       "</table>\n",
       "</div>"
      ],
      "text/plain": [
       "               Feature  Coefficient      Odds\n",
       "0           PageValues     2.000529  7.392967\n",
       "1                  Nov     0.346612  1.414267\n",
       "2    Avg_Informational     0.080831  1.084188\n",
       "3   Avg_Administrative     0.062948  1.064971\n",
       "4              Weekend     0.050036  1.051309\n",
       "5   Avg_ProductRelated     0.020977  1.021199\n",
       "6          New_Visitor     0.019586  1.019779\n",
       "7           SpecialDay    -0.065482  0.936616\n",
       "8                  Mar    -0.173122  0.841035\n",
       "9                  May    -0.245604  0.782232\n",
       "10           ExitRates    -0.971833  0.378389"
      ]
     },
     "execution_count": 67,
     "metadata": {},
     "output_type": "execute_result"
    }
   ],
   "source": [
    "final_logreg_coefs"
   ]
  },
  {
   "cell_type": "markdown",
   "id": "9f0b860d",
   "metadata": {},
   "source": [
    "--------------------"
   ]
  },
  {
   "cell_type": "markdown",
   "id": "1d9094d5",
   "metadata": {},
   "source": [
    "### Future Work: Deploy into app using Streamlit"
   ]
  },
  {
   "cell_type": "code",
   "execution_count": 68,
   "id": "dee1e33d",
   "metadata": {},
   "outputs": [],
   "source": [
    "# saving the model \n",
    "# import pickle \n",
    "# pickle_out = open(\"classifier.pkl\", mode = \"wb\") \n",
    "# pickle.dump(final_logreg, pickle_out) \n",
    "# pickle_out.close()"
   ]
  },
  {
   "cell_type": "code",
   "execution_count": 69,
   "id": "b9c9f820",
   "metadata": {},
   "outputs": [],
   "source": [
    "# !pip install -q pyngrok\n",
    "\n",
    "# !pip install -q streamlit\n",
    "\n",
    "# !pip install -q streamlit_ace"
   ]
  },
  {
   "cell_type": "code",
   "execution_count": null,
   "id": "e0cffc7a",
   "metadata": {},
   "outputs": [],
   "source": []
  }
 ],
 "metadata": {
  "kernelspec": {
   "display_name": "Python 3",
   "language": "python",
   "name": "python3"
  },
  "language_info": {
   "codemirror_mode": {
    "name": "ipython",
    "version": 3
   },
   "file_extension": ".py",
   "mimetype": "text/x-python",
   "name": "python",
   "nbconvert_exporter": "python",
   "pygments_lexer": "ipython3",
   "version": "3.8.8"
  }
 },
 "nbformat": 4,
 "nbformat_minor": 5
}
